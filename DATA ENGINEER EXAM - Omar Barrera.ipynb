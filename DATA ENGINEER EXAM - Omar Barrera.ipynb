{
 "cells": [
  {
   "cell_type": "markdown",
   "id": "d7153ea9",
   "metadata": {},
   "source": [
    "## Ejercicio 1 Bases de datos"
   ]
  },
  {
   "cell_type": "markdown",
   "id": "3a5fa448",
   "metadata": {},
   "source": [
    "SELECT client,string_agg(protocol,', ') as protocol <br>FROM \n",
    "(SELECT  client,protocol, (traffic_in+traffic_out) AS all_traffic <br>FROM traffic\n",
    "ORDER BY all_traffic DESC) AS filtered <br>\n",
    "GROUP BY client<br>\n",
    "ORDER BY client ASC;"
   ]
  },
  {
   "cell_type": "markdown",
   "id": "649e5fd1",
   "metadata": {},
   "source": [
    "<a href=\"https://github.com/arroz4/CodingChallenge/blob/461c4d96defb8ceb210f89d517f0ff4198b6c0fa/SQLCode.sql\" download>Haz click para descargar el archivo de SQL</a>"
   ]
  },
  {
   "cell_type": "markdown",
   "id": "6d1dd653",
   "metadata": {},
   "source": [
    "![Result](https://raw.githubusercontent.com/arroz4/CodingChallenge/main/SQLChallenge.png)"
   ]
  },
  {
   "cell_type": "markdown",
   "id": "e7c7ac4c",
   "metadata": {},
   "source": [
    "## Ejercicio 2 Programacion"
   ]
  },
  {
   "cell_type": "code",
   "execution_count": 2,
   "id": "d49b8a81",
   "metadata": {},
   "outputs": [],
   "source": [
    "def counts(arr1,arr2):\n",
    "    arr1 = list(arr1)\n",
    "    arr2 = list(arr2)\n",
    "    n=len(arr1)\n",
    "    m=len(arr2)\n",
    "    \n",
    "    \n",
    "    ##RESTRICCIONES\n",
    "    ## Solo recibe numeros positivos\n",
    "    for i in arr1:\n",
    "        if i<=0:\n",
    "            raise Exception(\"La lista debe contener numeros positivos mayores a 0\")\n",
    "\n",
    "    for i in arr2:\n",
    "        if i<=0:\n",
    "            raise Exception(\"La lista debe contener numeros positivos mayores a 0\")\n",
    "    \n",
    "    ### Restricciones de longitud\n",
    "    if n<=2:\n",
    "        raise Exception(\"La lista 1 debe contener por lo menos 2 valores\")\n",
    "    if n>110:\n",
    "        raise Exception(\"La lista 1 debe contener menos de 109 valores\")\n",
    "    if m> 106:\n",
    "        raise Exception(\"La lista 2 debe contener menos de 105 valores\")\n",
    "    \n",
    "    \n",
    "    \n",
    "    \n",
    "    ## LOGICA\n",
    "    results=[]\n",
    "    for j in arr2:\n",
    "        iter_len = 0\n",
    "        counter = 0\n",
    "        for i in arr1:\n",
    "\n",
    "            if j >= i:\n",
    "                counter += 1\n",
    "\n",
    "            if iter_len == (n-1):\n",
    "                results.append(counter)\n",
    "            iter_len+=1\n",
    "            \n",
    "    return results"
   ]
  },
  {
   "cell_type": "code",
   "execution_count": 3,
   "id": "98ff8f61",
   "metadata": {},
   "outputs": [
    {
     "data": {
      "text/plain": [
       "[2, 3]"
      ]
     },
     "execution_count": 3,
     "metadata": {},
     "output_type": "execute_result"
    }
   ],
   "source": [
    "## Caso normal\n",
    "equipoA = [1,2,3]\n",
    "equipoB = [2,4]\n",
    "counts(equipoA,equipoB)"
   ]
  },
  {
   "cell_type": "code",
   "execution_count": 4,
   "id": "515ffea9",
   "metadata": {},
   "outputs": [
    {
     "ename": "Exception",
     "evalue": "La lista debe contener numeros positivos mayores a 0",
     "output_type": "error",
     "traceback": [
      "\u001b[1;31m---------------------------------------------------------------------------\u001b[0m",
      "\u001b[1;31mException\u001b[0m                                 Traceback (most recent call last)",
      "\u001b[1;32m<ipython-input-4-1b3f90450e84>\u001b[0m in \u001b[0;36m<module>\u001b[1;34m\u001b[0m\n\u001b[0;32m      2\u001b[0m \u001b[0mequipoA\u001b[0m \u001b[1;33m=\u001b[0m \u001b[1;33m[\u001b[0m\u001b[1;36m1\u001b[0m\u001b[1;33m,\u001b[0m\u001b[1;36m2\u001b[0m\u001b[1;33m,\u001b[0m\u001b[1;36m0\u001b[0m\u001b[1;33m]\u001b[0m\u001b[1;33m\u001b[0m\u001b[1;33m\u001b[0m\u001b[0m\n\u001b[0;32m      3\u001b[0m \u001b[0mequipoB\u001b[0m \u001b[1;33m=\u001b[0m \u001b[1;33m[\u001b[0m\u001b[1;36m2\u001b[0m\u001b[1;33m,\u001b[0m\u001b[1;36m4\u001b[0m\u001b[1;33m]\u001b[0m\u001b[1;33m\u001b[0m\u001b[1;33m\u001b[0m\u001b[0m\n\u001b[1;32m----> 4\u001b[1;33m \u001b[0mcounts\u001b[0m\u001b[1;33m(\u001b[0m\u001b[0mequipoA\u001b[0m\u001b[1;33m,\u001b[0m\u001b[0mequipoB\u001b[0m\u001b[1;33m)\u001b[0m\u001b[1;33m\u001b[0m\u001b[1;33m\u001b[0m\u001b[0m\n\u001b[0m",
      "\u001b[1;32m<ipython-input-2-1cefb0c3fb69>\u001b[0m in \u001b[0;36mcounts\u001b[1;34m(arr1, arr2)\u001b[0m\n\u001b[0;32m     10\u001b[0m     \u001b[1;32mfor\u001b[0m \u001b[0mi\u001b[0m \u001b[1;32min\u001b[0m \u001b[0marr1\u001b[0m\u001b[1;33m:\u001b[0m\u001b[1;33m\u001b[0m\u001b[1;33m\u001b[0m\u001b[0m\n\u001b[0;32m     11\u001b[0m         \u001b[1;32mif\u001b[0m \u001b[0mi\u001b[0m\u001b[1;33m<=\u001b[0m\u001b[1;36m0\u001b[0m\u001b[1;33m:\u001b[0m\u001b[1;33m\u001b[0m\u001b[1;33m\u001b[0m\u001b[0m\n\u001b[1;32m---> 12\u001b[1;33m             \u001b[1;32mraise\u001b[0m \u001b[0mException\u001b[0m\u001b[1;33m(\u001b[0m\u001b[1;34m\"La lista debe contener numeros positivos mayores a 0\"\u001b[0m\u001b[1;33m)\u001b[0m\u001b[1;33m\u001b[0m\u001b[1;33m\u001b[0m\u001b[0m\n\u001b[0m\u001b[0;32m     13\u001b[0m \u001b[1;33m\u001b[0m\u001b[0m\n\u001b[0;32m     14\u001b[0m     \u001b[1;32mfor\u001b[0m \u001b[0mi\u001b[0m \u001b[1;32min\u001b[0m \u001b[0marr2\u001b[0m\u001b[1;33m:\u001b[0m\u001b[1;33m\u001b[0m\u001b[1;33m\u001b[0m\u001b[0m\n",
      "\u001b[1;31mException\u001b[0m: La lista debe contener numeros positivos mayores a 0"
     ]
    }
   ],
   "source": [
    "## Caso con numeros negativos o cero\n",
    "equipoA = [1,2,0]\n",
    "equipoB = [2,4]\n",
    "counts(equipoA,equipoB)"
   ]
  },
  {
   "cell_type": "code",
   "execution_count": 5,
   "id": "a5f514d4",
   "metadata": {},
   "outputs": [
    {
     "ename": "Exception",
     "evalue": "La lista 1 debe contener menos de 109 valores",
     "output_type": "error",
     "traceback": [
      "\u001b[1;31m---------------------------------------------------------------------------\u001b[0m",
      "\u001b[1;31mException\u001b[0m                                 Traceback (most recent call last)",
      "\u001b[1;32m<ipython-input-5-1e6f169d5343>\u001b[0m in \u001b[0;36m<module>\u001b[1;34m\u001b[0m\n\u001b[0;32m      2\u001b[0m \u001b[0mequipoA\u001b[0m \u001b[1;33m=\u001b[0m \u001b[0mrange\u001b[0m\u001b[1;33m(\u001b[0m\u001b[1;36m1\u001b[0m\u001b[1;33m,\u001b[0m\u001b[1;36m115\u001b[0m\u001b[1;33m)\u001b[0m\u001b[1;33m\u001b[0m\u001b[1;33m\u001b[0m\u001b[0m\n\u001b[0;32m      3\u001b[0m \u001b[0mequipoB\u001b[0m \u001b[1;33m=\u001b[0m \u001b[1;33m[\u001b[0m\u001b[1;36m2\u001b[0m\u001b[1;33m,\u001b[0m\u001b[1;36m4\u001b[0m\u001b[1;33m]\u001b[0m\u001b[1;33m\u001b[0m\u001b[1;33m\u001b[0m\u001b[0m\n\u001b[1;32m----> 4\u001b[1;33m \u001b[0mcounts\u001b[0m\u001b[1;33m(\u001b[0m\u001b[0mequipoA\u001b[0m\u001b[1;33m,\u001b[0m\u001b[0mequipoB\u001b[0m\u001b[1;33m)\u001b[0m\u001b[1;33m\u001b[0m\u001b[1;33m\u001b[0m\u001b[0m\n\u001b[0m",
      "\u001b[1;32m<ipython-input-2-1cefb0c3fb69>\u001b[0m in \u001b[0;36mcounts\u001b[1;34m(arr1, arr2)\u001b[0m\n\u001b[0;32m     20\u001b[0m         \u001b[1;32mraise\u001b[0m \u001b[0mException\u001b[0m\u001b[1;33m(\u001b[0m\u001b[1;34m\"La lista 1 debe contener por lo menos 2 valores\"\u001b[0m\u001b[1;33m)\u001b[0m\u001b[1;33m\u001b[0m\u001b[1;33m\u001b[0m\u001b[0m\n\u001b[0;32m     21\u001b[0m     \u001b[1;32mif\u001b[0m \u001b[0mn\u001b[0m\u001b[1;33m>\u001b[0m\u001b[1;36m110\u001b[0m\u001b[1;33m:\u001b[0m\u001b[1;33m\u001b[0m\u001b[1;33m\u001b[0m\u001b[0m\n\u001b[1;32m---> 22\u001b[1;33m         \u001b[1;32mraise\u001b[0m \u001b[0mException\u001b[0m\u001b[1;33m(\u001b[0m\u001b[1;34m\"La lista 1 debe contener menos de 109 valores\"\u001b[0m\u001b[1;33m)\u001b[0m\u001b[1;33m\u001b[0m\u001b[1;33m\u001b[0m\u001b[0m\n\u001b[0m\u001b[0;32m     23\u001b[0m     \u001b[1;32mif\u001b[0m \u001b[0mm\u001b[0m\u001b[1;33m>\u001b[0m \u001b[1;36m106\u001b[0m\u001b[1;33m:\u001b[0m\u001b[1;33m\u001b[0m\u001b[1;33m\u001b[0m\u001b[0m\n\u001b[0;32m     24\u001b[0m         \u001b[1;32mraise\u001b[0m \u001b[0mException\u001b[0m\u001b[1;33m(\u001b[0m\u001b[1;34m\"La lista 2 debe contener menos de 105 valores\"\u001b[0m\u001b[1;33m)\u001b[0m\u001b[1;33m\u001b[0m\u001b[1;33m\u001b[0m\u001b[0m\n",
      "\u001b[1;31mException\u001b[0m: La lista 1 debe contener menos de 109 valores"
     ]
    }
   ],
   "source": [
    "## Caso con numeros donde primer argumento tiene 109 valores o mas\n",
    "equipoA = range(1,115)\n",
    "equipoB = [2,4]\n",
    "counts(equipoA,equipoB)"
   ]
  },
  {
   "cell_type": "code",
   "execution_count": 6,
   "id": "87aa72e9",
   "metadata": {},
   "outputs": [
    {
     "ename": "Exception",
     "evalue": "La lista 2 debe contener menos de 105 valores",
     "output_type": "error",
     "traceback": [
      "\u001b[1;31m---------------------------------------------------------------------------\u001b[0m",
      "\u001b[1;31mException\u001b[0m                                 Traceback (most recent call last)",
      "\u001b[1;32m<ipython-input-6-424d3a2b7f30>\u001b[0m in \u001b[0;36m<module>\u001b[1;34m\u001b[0m\n\u001b[0;32m      2\u001b[0m \u001b[0mequipoA\u001b[0m \u001b[1;33m=\u001b[0m \u001b[1;33m[\u001b[0m\u001b[1;36m1\u001b[0m\u001b[1;33m,\u001b[0m\u001b[1;36m2\u001b[0m\u001b[1;33m,\u001b[0m\u001b[1;36m3\u001b[0m\u001b[1;33m]\u001b[0m\u001b[1;33m\u001b[0m\u001b[1;33m\u001b[0m\u001b[0m\n\u001b[0;32m      3\u001b[0m \u001b[0mequipoB\u001b[0m \u001b[1;33m=\u001b[0m \u001b[0mlist\u001b[0m\u001b[1;33m(\u001b[0m\u001b[0mrange\u001b[0m\u001b[1;33m(\u001b[0m\u001b[1;36m1\u001b[0m\u001b[1;33m,\u001b[0m\u001b[1;36m115\u001b[0m\u001b[1;33m)\u001b[0m\u001b[1;33m)\u001b[0m\u001b[1;33m\u001b[0m\u001b[1;33m\u001b[0m\u001b[0m\n\u001b[1;32m----> 4\u001b[1;33m \u001b[0mcounts\u001b[0m\u001b[1;33m(\u001b[0m\u001b[0mequipoA\u001b[0m\u001b[1;33m,\u001b[0m\u001b[0mequipoB\u001b[0m\u001b[1;33m)\u001b[0m\u001b[1;33m\u001b[0m\u001b[1;33m\u001b[0m\u001b[0m\n\u001b[0m",
      "\u001b[1;32m<ipython-input-2-1cefb0c3fb69>\u001b[0m in \u001b[0;36mcounts\u001b[1;34m(arr1, arr2)\u001b[0m\n\u001b[0;32m     22\u001b[0m         \u001b[1;32mraise\u001b[0m \u001b[0mException\u001b[0m\u001b[1;33m(\u001b[0m\u001b[1;34m\"La lista 1 debe contener menos de 109 valores\"\u001b[0m\u001b[1;33m)\u001b[0m\u001b[1;33m\u001b[0m\u001b[1;33m\u001b[0m\u001b[0m\n\u001b[0;32m     23\u001b[0m     \u001b[1;32mif\u001b[0m \u001b[0mm\u001b[0m\u001b[1;33m>\u001b[0m \u001b[1;36m106\u001b[0m\u001b[1;33m:\u001b[0m\u001b[1;33m\u001b[0m\u001b[1;33m\u001b[0m\u001b[0m\n\u001b[1;32m---> 24\u001b[1;33m         \u001b[1;32mraise\u001b[0m \u001b[0mException\u001b[0m\u001b[1;33m(\u001b[0m\u001b[1;34m\"La lista 2 debe contener menos de 105 valores\"\u001b[0m\u001b[1;33m)\u001b[0m\u001b[1;33m\u001b[0m\u001b[1;33m\u001b[0m\u001b[0m\n\u001b[0m\u001b[0;32m     25\u001b[0m \u001b[1;33m\u001b[0m\u001b[0m\n\u001b[0;32m     26\u001b[0m \u001b[1;33m\u001b[0m\u001b[0m\n",
      "\u001b[1;31mException\u001b[0m: La lista 2 debe contener menos de 105 valores"
     ]
    }
   ],
   "source": [
    "## Caso con numeros donde el segundo argumento tiene mas de 105 valores\n",
    "equipoA = [1,2,3]\n",
    "equipoB = list(range(1,115))\n",
    "counts(equipoA,equipoB)"
   ]
  },
  {
   "cell_type": "markdown",
   "id": "6ee2a4a2",
   "metadata": {},
   "source": [
    "## Ejercicio 3 Diseño de sistemas"
   ]
  },
  {
   "cell_type": "markdown",
   "id": "3627d96b",
   "metadata": {},
   "source": [
    "![Sistema de Transacciones](https://raw.githubusercontent.com/arroz4/CodingChallenge/main/Drawing1.png)"
   ]
  },
  {
   "cell_type": "code",
   "execution_count": null,
   "id": "9d956039",
   "metadata": {},
   "outputs": [],
   "source": []
  },
  {
   "cell_type": "code",
   "execution_count": null,
   "id": "842166fe",
   "metadata": {},
   "outputs": [],
   "source": []
  },
  {
   "cell_type": "code",
   "execution_count": null,
   "id": "88571a06",
   "metadata": {},
   "outputs": [],
   "source": []
  },
  {
   "cell_type": "code",
   "execution_count": null,
   "id": "b99d0c38",
   "metadata": {},
   "outputs": [],
   "source": []
  },
  {
   "cell_type": "code",
   "execution_count": null,
   "id": "d3a4ac6b",
   "metadata": {},
   "outputs": [],
   "source": []
  }
 ],
 "metadata": {
  "kernelspec": {
   "display_name": "Python 3",
   "language": "python",
   "name": "python3"
  },
  "language_info": {
   "codemirror_mode": {
    "name": "ipython",
    "version": 3
   },
   "file_extension": ".py",
   "mimetype": "text/x-python",
   "name": "python",
   "nbconvert_exporter": "python",
   "pygments_lexer": "ipython3",
   "version": "3.8.8"
  }
 },
 "nbformat": 4,
 "nbformat_minor": 5
}
