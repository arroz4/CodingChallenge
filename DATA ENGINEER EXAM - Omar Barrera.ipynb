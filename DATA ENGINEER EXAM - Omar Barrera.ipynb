{
 "cells": [
  {
   "cell_type": "markdown",
   "id": "e2303dc7",
   "metadata": {},
   "source": [
    "## Ejercicio 1 Bases de datos"
   ]
  },
  {
   "cell_type": "code",
   "execution_count": null,
   "id": "4869795e",
   "metadata": {},
   "outputs": [],
   "source": []
  },
  {
   "cell_type": "code",
   "execution_count": null,
   "id": "b089e905",
   "metadata": {},
   "outputs": [],
   "source": []
  },
  {
   "cell_type": "markdown",
   "id": "cf25413e",
   "metadata": {},
   "source": [
    "![Result](https://drive.google.com/file/d/1_Is8cStvxo5KYunTadx464OWmt670MAd/view?usp=sharing)"
   ]
  },
  {
   "cell_type": "code",
   "execution_count": null,
   "id": "3a81b37f",
   "metadata": {},
   "outputs": [],
   "source": []
  },
  {
   "cell_type": "code",
   "execution_count": null,
   "id": "7dbbd08c",
   "metadata": {},
   "outputs": [],
   "source": []
  }
 ],
 "metadata": {
  "kernelspec": {
   "display_name": "Python 3",
   "language": "python",
   "name": "python3"
  },
  "language_info": {
   "codemirror_mode": {
    "name": "ipython",
    "version": 3
   },
   "file_extension": ".py",
   "mimetype": "text/x-python",
   "name": "python",
   "nbconvert_exporter": "python",
   "pygments_lexer": "ipython3",
   "version": "3.8.8"
  }
 },
 "nbformat": 4,
 "nbformat_minor": 5
}
